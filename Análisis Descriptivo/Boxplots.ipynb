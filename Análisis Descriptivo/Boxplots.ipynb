{
 "cells": [
  {
   "cell_type": "markdown",
   "metadata": {},
   "source": [
    "## Diagrama de Cajas y Bigotes"
   ]
  },
  {
   "cell_type": "code",
   "execution_count": 30,
   "metadata": {},
   "outputs": [],
   "source": [
    "import numpy as np\n",
    "import matplotlib.pyplot as plt\n",
    "import pandas as pd"
   ]
  },
  {
   "cell_type": "code",
   "execution_count": 3,
   "metadata": {},
   "outputs": [],
   "source": [
    "np.random.seed(19880519)"
   ]
  },
  {
   "cell_type": "code",
   "execution_count": 4,
   "metadata": {},
   "outputs": [],
   "source": [
    "dist1 = 100*np.random.rand(50)\n",
    "dist2 = 50*np.ones(25)\n",
    "dist3 = 100+100*np.random.rand(10)\n",
    "dist4 = -100*np.random.rand(10)\n",
    "data = np.concatenate((dist1, dist2, dist3, dist4))"
   ]
  },
  {
   "cell_type": "code",
   "execution_count": 11,
   "metadata": {},
   "outputs": [
    {
     "data": {
      "text/plain": [
       "{'whiskers': [<matplotlib.lines.Line2D at 0x28c048d1a58>,\n",
       "  <matplotlib.lines.Line2D at 0x28c048d1da0>],\n",
       " 'caps': [<matplotlib.lines.Line2D at 0x28c041e9c88>,\n",
       "  <matplotlib.lines.Line2D at 0x28c041de4e0>],\n",
       " 'boxes': [<matplotlib.lines.Line2D at 0x28c048d1860>],\n",
       " 'medians': [<matplotlib.lines.Line2D at 0x28c041e54e0>],\n",
       " 'fliers': [<matplotlib.lines.Line2D at 0x28c041e5a90>],\n",
       " 'means': []}"
      ]
     },
     "execution_count": 11,
     "metadata": {},
     "output_type": "execute_result"
    },
    {
     "data": {
      "image/png": "[encoded data removed]",
      "text/plain": [
       "<Figure size 432x288 with 1 Axes>"
      ]
     },
     "metadata": {
      "needs_background": "light"
     },
     "output_type": "display_data"
    }
   ],
   "source": [
    "fig1, ax1 = plt.subplots()\n",
    "ax1.set_title(\"Boxplot básico\")\n",
    "ax1.boxplot(data)"
   ]
  },
  {
   "cell_type": "code",
   "execution_count": 12,
   "metadata": {},
   "outputs": [
    {
     "data": {
      "text/plain": [
       "{'whiskers': [<matplotlib.lines.Line2D at 0x28c0494ed30>,\n",
       "  <matplotlib.lines.Line2D at 0x28c0495c048>],\n",
       " 'caps': [<matplotlib.lines.Line2D at 0x28c0495c320>,\n",
       "  <matplotlib.lines.Line2D at 0x28c0495c5f8>],\n",
       " 'boxes': [<matplotlib.lines.Line2D at 0x28c0494eac8>],\n",
       " 'medians': [<matplotlib.lines.Line2D at 0x28c0495c8d0>],\n",
       " 'fliers': [<matplotlib.lines.Line2D at 0x28c0495cba8>],\n",
       " 'means': []}"
      ]
     },
     "execution_count": 12,
     "metadata": {},
     "output_type": "execute_result"
    },
    {
     "data": {
      "image/png": "[encoded data removed]",
      "text/plain": [
       "<Figure size 432x288 with 1 Axes>"
      ]
     },
     "metadata": {
      "needs_background": "light"
     },
     "output_type": "display_data"
    }
   ],
   "source": [
    "fig2, ax2 = plt.subplots()\n",
    "ax2.set_title(\"Boxplot con muescas\")\n",
    "ax2.boxplot(data, notch = True)"
   ]
  },
  {
   "cell_type": "code",
   "execution_count": 19,
   "metadata": {},
   "outputs": [
    {
     "data": {
      "text/plain": [
       "{'whiskers': [<matplotlib.lines.Line2D at 0x28c04a90b70>,\n",
       "  <matplotlib.lines.Line2D at 0x28c04a90e48>],\n",
       " 'caps': [<matplotlib.lines.Line2D at 0x28c04a9c160>,\n",
       "  <matplotlib.lines.Line2D at 0x28c04a9c438>],\n",
       " 'boxes': [<matplotlib.lines.Line2D at 0x28c04a90908>],\n",
       " 'medians': [<matplotlib.lines.Line2D at 0x28c04a9c710>],\n",
       " 'fliers': [<matplotlib.lines.Line2D at 0x28c04a9c9e8>],\n",
       " 'means': []}"
      ]
     },
     "execution_count": 19,
     "metadata": {},
     "output_type": "execute_result"
    },
    {
     "data": {
      "image/png": "[encoded data removed]",
      "text/plain": [
       "<Figure size 432x288 with 1 Axes>"
      ]
     },
     "metadata": {
      "needs_background": "light"
     },
     "output_type": "display_data"
    }
   ],
   "source": [
    "green_diamond = dict(markerfacecolor=\"g\", marker=\"D\")\n",
    "fig3, ax3 = plt.subplots()\n",
    "ax3.set_title(\"Boxplot con outliers personalizados\")\n",
    "ax3.boxplot(data, flierprops=green_diamond)"
   ]
  },
  {
   "cell_type": "code",
   "execution_count": 21,
   "metadata": {},
   "outputs": [
    {
     "data": {
      "text/plain": [
       "{'whiskers': [<matplotlib.lines.Line2D at 0x28c04b6d390>,\n",
       "  <matplotlib.lines.Line2D at 0x28c04b6d668>],\n",
       " 'caps': [<matplotlib.lines.Line2D at 0x28c04b6d940>,\n",
       "  <matplotlib.lines.Line2D at 0x28c04b6dc18>],\n",
       " 'boxes': [<matplotlib.lines.Line2D at 0x28c04b6d128>],\n",
       " 'medians': [<matplotlib.lines.Line2D at 0x28c04b6def0>],\n",
       " 'fliers': [],\n",
       " 'means': []}"
      ]
     },
     "execution_count": 21,
     "metadata": {},
     "output_type": "execute_result"
    },
    {
     "data": {
      "image/png": "[encoded data removed]",
      "text/plain": [
       "<Figure size 432x288 with 1 Axes>"
      ]
     },
     "metadata": {
      "needs_background": "light"
     },
     "output_type": "display_data"
    }
   ],
   "source": [
    "fig4, ax4 = plt.subplots()\n",
    "ax4.set_title(\"Boxplot sin outliers\")\n",
    "ax4.boxplot(data, showfliers = False)"
   ]
  },
  {
   "cell_type": "code",
   "execution_count": 23,
   "metadata": {
    "scrolled": false
   },
   "outputs": [
    {
     "data": {
      "text/plain": [
       "{'whiskers': [<matplotlib.lines.Line2D at 0x28c05c07fd0>,\n",
       "  <matplotlib.lines.Line2D at 0x28c05c16278>],\n",
       " 'caps': [<matplotlib.lines.Line2D at 0x28c05c16550>,\n",
       "  <matplotlib.lines.Line2D at 0x28c05c16828>],\n",
       " 'boxes': [<matplotlib.lines.Line2D at 0x28c05c07d68>],\n",
       " 'medians': [<matplotlib.lines.Line2D at 0x28c05c16b00>],\n",
       " 'fliers': [<matplotlib.lines.Line2D at 0x28c05c16dd8>],\n",
       " 'means': []}"
      ]
     },
     "execution_count": 23,
     "metadata": {},
     "output_type": "execute_result"
    },
    {
     "data": {
      "image/png": "[encoded data removed]",
      "text/plain": [
       "<Figure size 432x288 with 1 Axes>"
      ]
     },
     "metadata": {
      "needs_background": "light"
     },
     "output_type": "display_data"
    }
   ],
   "source": [
    "red_square = dict(markerfacecolor=\"r\", marker=\"s\")\n",
    "fig5, ax5 = plt.subplots()\n",
    "ax5.set_title(\"Boxplot en horizontal\")\n",
    "ax5.boxplot(data, vert=False, flierprops=red_square)"
   ]
  },
  {
   "cell_type": "code",
   "execution_count": 43,
   "metadata": {},
   "outputs": [
    {
     "data": {
      "text/plain": [
       "{'whiskers': [<matplotlib.lines.Line2D at 0x28c070be2b0>,\n",
       "  <matplotlib.lines.Line2D at 0x28c070becf8>],\n",
       " 'caps': [<matplotlib.lines.Line2D at 0x28c070c2c18>,\n",
       "  <matplotlib.lines.Line2D at 0x28c070c2550>],\n",
       " 'boxes': [<matplotlib.lines.Line2D at 0x28c070be5c0>],\n",
       " 'medians': [<matplotlib.lines.Line2D at 0x28c070c2080>],\n",
       " 'fliers': [<matplotlib.lines.Line2D at 0x28c070c2da0>],\n",
       " 'means': []}"
      ]
     },
     "execution_count": 43,
     "metadata": {},
     "output_type": "execute_result"
    },
    {
     "data": {
      "image/png": "[encoded data removed]",
      "text/plain": [
       "<Figure size 432x288 with 1 Axes>"
      ]
     },
     "metadata": {
      "needs_background": "light"
     },
     "output_type": "display_data"
    }
   ],
   "source": [
    "red_square = dict(markerfacecolor=\"r\", marker=\"s\")\n",
    "fig6, ax6 = plt.subplots()\n",
    "ax6.set_title(\"Boxplot con outliers de distinto tamaño\")\n",
    "ax6.boxplot(data, vert=False, flierprops=red_square, whis=1.5)"
   ]
  },
  {
   "cell_type": "code",
   "execution_count": 32,
   "metadata": {},
   "outputs": [
    {
     "data": {
      "text/html": [
       "<div>\n",
       "<style scoped>\n",
       "    .dataframe tbody tr th:only-of-type {\n",
       "        vertical-align: middle;\n",
       "    }\n",
       "\n",
       "    .dataframe tbody tr th {\n",
       "        vertical-align: top;\n",
       "    }\n",
       "\n",
       "    .dataframe thead th {\n",
       "        text-align: right;\n",
       "    }\n",
       "</style>\n",
       "<table border=\"1\" class=\"dataframe\">\n",
       "  <thead>\n",
       "    <tr style=\"text-align: right;\">\n",
       "      <th></th>\n",
       "      <th>0</th>\n",
       "    </tr>\n",
       "  </thead>\n",
       "  <tbody>\n",
       "    <tr>\n",
       "      <th>count</th>\n",
       "      <td>95.000000</td>\n",
       "    </tr>\n",
       "    <tr>\n",
       "      <th>mean</th>\n",
       "      <td>45.826152</td>\n",
       "    </tr>\n",
       "    <tr>\n",
       "      <th>std</th>\n",
       "      <td>51.710612</td>\n",
       "    </tr>\n",
       "    <tr>\n",
       "      <th>min</th>\n",
       "      <td>-90.212034</td>\n",
       "    </tr>\n",
       "    <tr>\n",
       "      <th>25%</th>\n",
       "      <td>21.631804</td>\n",
       "    </tr>\n",
       "    <tr>\n",
       "      <th>50%</th>\n",
       "      <td>50.000000</td>\n",
       "    </tr>\n",
       "    <tr>\n",
       "      <th>75%</th>\n",
       "      <td>63.813241</td>\n",
       "    </tr>\n",
       "    <tr>\n",
       "      <th>max</th>\n",
       "      <td>187.283013</td>\n",
       "    </tr>\n",
       "  </tbody>\n",
       "</table>\n",
       "</div>"
      ],
      "text/plain": [
       "                0\n",
       "count   95.000000\n",
       "mean    45.826152\n",
       "std     51.710612\n",
       "min    -90.212034\n",
       "25%     21.631804\n",
       "50%     50.000000\n",
       "75%     63.813241\n",
       "max    187.283013"
      ]
     },
     "execution_count": 32,
     "metadata": {},
     "output_type": "execute_result"
    }
   ],
   "source": [
    "df = pd.DataFrame(data)\n",
    "df.describe()"
   ]
  },
  {
   "cell_type": "code",
   "execution_count": 39,
   "metadata": {},
   "outputs": [
    {
     "name": "stdout",
     "output_type": "stream",
     "text": [
      "0    42.181438\n",
      "dtype: float64\n",
      "0   -20.549634\n",
      "dtype: float64\n",
      "0    105.994679\n",
      "dtype: float64\n"
     ]
    }
   ],
   "source": [
    "dif_q = df.quantile(.75) - df.quantile(.25) \n",
    "big_min = df.quantile(.25) - dif_q*1\n",
    "big_max = df.quantile(.75) + dif_q*1\n",
    "print(dif_q)\n",
    "print(big_min)\n",
    "print(big_max)"
   ]
  },
  {
   "cell_type": "code",
   "execution_count": null,
   "metadata": {},
   "outputs": [],
   "source": []
  },
  {
   "cell_type": "code",
   "execution_count": 44,
   "metadata": {},
   "outputs": [],
   "source": [
    "dist1 = 100*np.random.rand(50)\n",
    "dist2 = 40*np.ones(25)\n",
    "dist3 = 100+100*np.random.rand(10)\n",
    "dist4 = -100*np.random.rand(10)\n",
    "data2 = np.concatenate((dist1, dist2, dist3, dist4))"
   ]
  },
  {
   "cell_type": "code",
   "execution_count": null,
   "metadata": {},
   "outputs": [],
   "source": [
    "data2"
   ]
  },
  {
   "cell_type": "code",
   "execution_count": 48,
   "metadata": {},
   "outputs": [],
   "source": [
    "fulldata = [data, data2, data2[::2]]"
   ]
  },
  {
   "cell_type": "code",
   "execution_count": 49,
   "metadata": {},
   "outputs": [
    {
     "data": {
      "image/png": "[encoded data removed]",
      "text/plain": [
       "<Figure size 432x288 with 1 Axes>"
      ]
     },
     "metadata": {
      "needs_background": "light"
     },
     "output_type": "display_data"
    }
   ],
   "source": [
    "red_square = dict(markerfacecolor=\"r\", marker=\"s\")\n",
    "fig7, ax7 = plt.subplots()\n",
    "ax7.set_title(\"Boxplot con outliers de distinto tamaño\")\n",
    "ax7.boxplot(fulldata)\n",
    "plt.show()"
   ]
  },
  {
   "cell_type": "code",
   "execution_count": null,
   "metadata": {},
   "outputs": [],
   "source": []
  }
 ],
 "metadata": {
  "kernelspec": {
   "display_name": "Python 3",
   "language": "python",
   "name": "python3"
  },
  "language_info": {
   "codemirror_mode": {
    "name": "ipython",
    "version": 3
   },
   "file_extension": ".py",
   "mimetype": "text/x-python",
   "name": "python",
   "nbconvert_exporter": "python",
   "pygments_lexer": "ipython3",
   "version": "3.6.3"
  }
 },
 "nbformat": 4,
 "nbformat_minor": 4
}
